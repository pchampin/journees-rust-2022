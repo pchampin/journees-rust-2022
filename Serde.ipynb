{
 "cells": [
  {
   "cell_type": "code",
   "execution_count": 31,
   "id": "09ad6ed8",
   "metadata": {},
   "outputs": [],
   "source": [
    ":dep serde = {version=\"1.0\", features=[\"derive\"]}\n",
    ":dep serde_cbor = \"0.11.2\"\n",
    ":dep serde_json = \"1.0\"\n",
    ":dep serde_yaml = \"0.8\"\n",
    ":dep serde_qs = \"0.9\""
   ]
  },
  {
   "cell_type": "code",
   "execution_count": 32,
   "id": "2d65c5be",
   "metadata": {},
   "outputs": [],
   "source": [
    "use serde::{Deserialize, Serialize};\n",
    "use std::error::Error;\n",
    "use std::fs::File;\n",
    "\n",
    "// Types annotated with `Serialize` can be stored as CBOR.\n",
    "// To be able to load them again add `Deserialize`.\n",
    "#[derive(Debug, Serialize, Deserialize)]\n",
    "struct Mascot {\n",
    "    name: String,\n",
    "    species: String,\n",
    "    year_of_birth: Option<i64>,\n",
    "}\n",
    "\n",
    "let ferris = Mascot {\n",
    "    name: \"Ferris\".to_owned(),\n",
    "    species: \"crab\".to_owned(),\n",
    "    year_of_birth: Some(2015),\n",
    "};"
   ]
  },
  {
   "cell_type": "markdown",
   "id": "60023b31",
   "metadata": {},
   "source": [
    "# JSON"
   ]
  },
  {
   "cell_type": "code",
   "execution_count": 19,
   "id": "76a8557f",
   "metadata": {},
   "outputs": [
    {
     "name": "stdout",
     "output_type": "stream",
     "text": [
      "{\n",
      "  \"name\": \"Ferris\",\n",
      "  \"species\": \"crab\",\n",
      "  \"year_of_birth\": 2015\n",
      "}\n"
     ]
    }
   ],
   "source": [
    "let mut txt: Vec<u8> = vec![];\n",
    "println!(\"{}\", serde_json::to_string_pretty(&ferris)?);"
   ]
  },
  {
   "cell_type": "code",
   "execution_count": 21,
   "id": "b44b11aa",
   "metadata": {},
   "outputs": [
    {
     "data": {
      "text/plain": [
       "Mascot { name: \"Tux\", species: \"penguin\", year_of_birth: Some(1996) }"
      ]
     },
     "execution_count": 21,
     "metadata": {},
     "output_type": "execute_result"
    }
   ],
   "source": [
    "let m: Mascot = serde_json::from_str(r#\"\n",
    "{\n",
    "  \"year_of_birth\": 1996,\n",
    "  \"name\": \"Tux\",\n",
    "  \"species\": \"penguin\"\n",
    "}\n",
    "\"#)?;\n",
    "m"
   ]
  },
  {
   "cell_type": "markdown",
   "id": "39c4b8d8",
   "metadata": {},
   "source": [
    "# CBOR"
   ]
  },
  {
   "cell_type": "code",
   "execution_count": 22,
   "id": "764d684d",
   "metadata": {},
   "outputs": [
    {
     "data": {
      "text/plain": [
       "[163, 100, 110, 97, 109, 101, 102, 70, 101, 114, 114, 105, 115, 103, 115, 112, 101, 99, 105, 101, 115, 100, 99, 114, 97, 98, 109, 121, 101, 97, 114, 95, 111, 102, 95, 98, 105, 114, 116, 104, 25, 7, 223]"
      ]
     },
     "execution_count": 22,
     "metadata": {},
     "output_type": "execute_result"
    }
   ],
   "source": [
    "let mut v = serde_cbor::to_vec(&ferris)?;\n",
    "v"
   ]
  },
  {
   "cell_type": "code",
   "execution_count": 23,
   "id": "7b04dc59",
   "metadata": {},
   "outputs": [
    {
     "name": "stdout",
     "output_type": "stream",
     "text": [
      "Inspect CBOR at https://cbor.me/?bytes=a3646e616d6566466572726973677370656369657364637261626d796561725f6f665f62697274681907df\n"
     ]
    }
   ],
   "source": [
    "let hex: String = v.iter().map(|b| format!(\"{:02x}\", b)).collect();\n",
    "println!(\"Inspect CBOR at https://cbor.me/?bytes={}\", &hex);"
   ]
  },
  {
   "cell_type": "code",
   "execution_count": 8,
   "id": "d12d826c",
   "metadata": {},
   "outputs": [
    {
     "data": {
      "text/plain": [
       "Mascot { name: \"Ferris\", species: \"crab\", year_of_birth: Some(2015) }"
      ]
     },
     "execution_count": 8,
     "metadata": {},
     "output_type": "execute_result"
    }
   ],
   "source": [
    "let m: Mascot = serde_cbor::from_slice(&v)?;\n",
    "m"
   ]
  },
  {
   "cell_type": "code",
   "execution_count": 17,
   "id": "7b005864",
   "metadata": {},
   "outputs": [
    {
     "data": {
      "text/plain": [
       "Mascot { name: \"ferris\", species: \"crab\", year_of_birth: None }"
      ]
     },
     "execution_count": 17,
     "metadata": {},
     "output_type": "execute_result"
    }
   ],
   "source": [
    "let mut v2 = v.clone();\n",
    "v2[7] += 32;        // lowercase first letter of name\n",
    "v2[0] = 0b10100010; // change map length to 2\n",
    "v2.truncate(26);    // truncate third item\n",
    "let m2: Mascot = serde_cbor::from_slice(&v2)?;\n",
    "m2"
   ]
  },
  {
   "cell_type": "markdown",
   "id": "dcca052b",
   "metadata": {},
   "source": [
    "# Yaml"
   ]
  },
  {
   "cell_type": "code",
   "execution_count": 33,
   "id": "97048d52",
   "metadata": {},
   "outputs": [
    {
     "name": "stdout",
     "output_type": "stream",
     "text": [
      "---\n",
      "name: Ferris\n",
      "species: crab\n",
      "year_of_birth: 2015\n",
      "\n"
     ]
    }
   ],
   "source": [
    "println!(\"{}\", serde_yaml::to_string(&ferris)?);"
   ]
  },
  {
   "cell_type": "markdown",
   "id": "0e1da8ce",
   "metadata": {},
   "source": [
    "# URL query string"
   ]
  },
  {
   "cell_type": "code",
   "execution_count": 34,
   "id": "d8cc5a04",
   "metadata": {},
   "outputs": [
    {
     "data": {
      "text/plain": [
       "\"name=Ferris&species=crab&year_of_birth=2015\""
      ]
     },
     "execution_count": 34,
     "metadata": {},
     "output_type": "execute_result"
    }
   ],
   "source": [
    "serde_qs::to_string(&ferris)?"
   ]
  },
  {
   "cell_type": "code",
   "execution_count": 37,
   "id": "3c26dcb0",
   "metadata": {},
   "outputs": [
    {
     "data": {
      "text/plain": [
       "Mascot { name: \"Tux\", species: \"nice penguin\", year_of_birth: None }"
      ]
     },
     "execution_count": 37,
     "metadata": {},
     "output_type": "execute_result"
    }
   ],
   "source": [
    "let m: Mascot = serde_qs::from_str(\"name=Tux&species=nice+penguin\")?;\n",
    "m"
   ]
  }
 ],
 "metadata": {
  "kernelspec": {
   "display_name": "Rust",
   "language": "rust",
   "name": "rust"
  },
  "language_info": {
   "codemirror_mode": "rust",
   "file_extension": ".rs",
   "mimetype": "text/rust",
   "name": "Rust",
   "pygment_lexer": "rust",
   "version": ""
  }
 },
 "nbformat": 4,
 "nbformat_minor": 5
}
