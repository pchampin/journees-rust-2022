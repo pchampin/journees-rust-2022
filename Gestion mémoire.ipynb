{
 "cells": [
  {
   "cell_type": "markdown",
   "metadata": {
    "slideshow": {
     "slide_type": "slide"
    }
   },
   "source": [
    "Introduction à Rust\n",
    "\n",
    "# Gestion de la mémoire en Rust 🦀🦀\n",
    "\n",
    "\n",
    "[Pierre-Antoine Champin](http://champin.net/)\n",
    "\n",
    "Département Info Doua – [IUT Lyon 1](http://iut.univ-lyon1.fr/)"
   ]
  },
  {
   "cell_type": "markdown",
   "metadata": {
    "slideshow": {
     "slide_type": "slide"
    }
   },
   "source": [
    "## Rappel : la pile et le tas\n",
    "\n",
    "La pile\n",
    "\n",
    "- contient les données des variables,\n",
    "- de taille connue à la compilation (statique),\n",
    "- gérées de manière *Last in, first out* par le compilateur (quel que soit le langage)\n",
    "    \n",
    "Le tas\n",
    "\n",
    "- contient des données de taille connue à l'exécution (dynamique),\n",
    "- gérées différemment selon les langages."
   ]
  },
  {
   "cell_type": "markdown",
   "metadata": {
    "slideshow": {
     "slide_type": "subslide"
    }
   },
   "source": [
    "### Gestion du tas\n",
    "\n",
    "En C\n",
    "- le développeur a la responsabilité de libérer la mémoire,\n",
    "- ce qui peut donner lieu à des erreurs (mémoire libérée trop tôt, trop tard, jamais...).\n",
    "\n",
    "En Java\n",
    "- le ramasse-miettes (*garbage collector*) se charge de libérer la mémoire à l'exécution,\n",
    "- ce qui peut entraîner des problèmes de performances."
   ]
  },
  {
   "cell_type": "markdown",
   "metadata": {
    "slideshow": {
     "slide_type": "subslide"
    }
   },
   "source": [
    "### Gestion du tas en Rust\n",
    "\n",
    "En Rust\n",
    "- le **compilateur** se charge de libérer la mémoire.\n",
    "- Cela suppose de lui fournir assez d'information pour qu'il le fasse,\n",
    "- d'où les concepts spécifiques de **propriété** et d'**emprunt**. 🦀🦀"
   ]
  },
  {
   "cell_type": "markdown",
   "metadata": {
    "slideshow": {
     "slide_type": "slide"
    }
   },
   "source": [
    "## La sémantique *move*\n",
    "\n",
    "Dans la plupart des langages de programmation,\n",
    "l'affectation a une sémantique de copie.\n",
    "\n",
    "```c\n",
    "v1 = init();\n",
    "v2 = v1;\n",
    "// v1 et v2 contiennent « la même chose »\n",
    "```\n",
    "\n",
    "En Rust, l'affectation a une semantique de *déplacement* (*move*):\n",
    "\n",
    "* conceptuellement, l'affectation *déplace* la valeur de `v1` dans `v2`.\n",
    "* après l'affectation, `v1` est considérée comme non-initialisée.\n"
   ]
  },
  {
   "cell_type": "markdown",
   "metadata": {
    "slideshow": {
     "slide_type": "subslide"
    }
   },
   "source": [
    "### Illustration : le type `Vec`"
   ]
  },
  {
   "cell_type": "code",
   "execution_count": 2,
   "metadata": {
    "slideshow": {
     "slide_type": "-"
    }
   },
   "outputs": [],
   "source": [
    "let v1: Vec<i32> = vec![22, 44, 66];"
   ]
  },
  {
   "cell_type": "markdown",
   "metadata": {},
   "source": [
    "<div style=\"text-align: center\">\n",
    "<img alt=\"String en mémoire\" src=\"images/trpl04-01.svg\" style=\"display: inline; width: 12em;\">\n",
    "</div>"
   ]
  },
  {
   "cell_type": "markdown",
   "metadata": {
    "slideshow": {
     "slide_type": "subslide"
    }
   },
   "source": [
    "### Avec la sémantique *copy* du C"
   ]
  },
  {
   "cell_type": "markdown",
   "metadata": {},
   "source": [
    "```c\n",
    "Vec v1 = init_vec();\n",
    "Vec v2 = v1;\n",
    "```"
   ]
  },
  {
   "cell_type": "markdown",
   "metadata": {},
   "source": [
    "<div style=\"text-align: center\"> <img alt=\"Shallow copy\" src=\"images/trpl04-02.svg\" style=\"display: inline; width: 12em;\"> </div>"
   ]
  },
  {
   "cell_type": "markdown",
   "metadata": {
    "slideshow": {
     "slide_type": "subslide"
    }
   },
   "source": [
    "### Avec la sémantique *move* de Rust 🦀"
   ]
  },
  {
   "cell_type": "code",
   "execution_count": 3,
   "metadata": {
    "slideshow": {
     "slide_type": "-"
    }
   },
   "outputs": [
    {
     "name": "stdout",
     "output_type": "stream",
     "text": [
      "v1=[22, 44, 66]\n",
      "v2=[22, 44, 66]\n"
     ]
    }
   ],
   "source": [
    "let v1: Vec<i32> = vec![22, 44, 66];\n",
    "println!(\"v1={:?}\", &v1);\n",
    "let v2 = v1;\n",
    "println!(\"v2={:?}\", &v2);\n",
    "//println!(\"v1={:?}\", &v1); // NE COMPILE PAS"
   ]
  },
  {
   "cell_type": "markdown",
   "metadata": {},
   "source": [
    "<div style=\"text-align: center\">\n",
    "<img alt=\"String en mémoire\" src=\"images/trpl04-04.svg\" style=\"display: inline; width: 12em;\">\n",
    "</div>"
   ]
  },
  {
   "cell_type": "markdown",
   "metadata": {
    "slideshow": {
     "slide_type": "subslide"
    }
   },
   "source": [
    "### Copie (profonde) explicite"
   ]
  },
  {
   "cell_type": "code",
   "execution_count": 4,
   "metadata": {
    "slideshow": {
     "slide_type": "-"
    }
   },
   "outputs": [
    {
     "name": "stdout",
     "output_type": "stream",
     "text": [
      "v1=[22, 44, 66] v2=[22, 44, 66]\n"
     ]
    }
   ],
   "source": [
    "// copie profonde EXPLICITE avec la méthode clone\n",
    "let v1: Vec<i32> = vec![22, 44, 66];\n",
    "let v2 = v1.clone();\n",
    "println!(\"v1={:?} v2={:?}\", &v1, &v2);"
   ]
  },
  {
   "cell_type": "markdown",
   "metadata": {},
   "source": [
    "<div style=\"text-align: center\">\n",
    "<img alt=\"Copie profonde\" src=\"images/trpl04-03.svg\" style=\"display: inline; width: 12em;\">\n",
    "</div>"
   ]
  },
  {
   "cell_type": "markdown",
   "metadata": {
    "slideshow": {
     "slide_type": "subslide"
    }
   },
   "source": [
    "### Copie implicite\n",
    "\n",
    "Bien que la sémantique *move* soit la règle,\n",
    "il existe des exceptions.\n",
    "\n",
    "En particulier, les affectations pour tous les types de base (entiers, flottants, booléens...)\n",
    "ont la sémantique *copy*,\n",
    "car le compilateur sait que cette copie est sûre (*safe*)."
   ]
  },
  {
   "cell_type": "code",
   "execution_count": 5,
   "metadata": {},
   "outputs": [
    {
     "name": "stdout",
     "output_type": "stream",
     "text": [
      "x=42 y=42\n"
     ]
    }
   ],
   "source": [
    "let x = 42;\n",
    "let y = x; // copy instead of move\n",
    "println!(\"x={} y={}\", x, y);"
   ]
  },
  {
   "cell_type": "markdown",
   "metadata": {
    "slideshow": {
     "slide_type": "fragment"
    }
   },
   "source": [
    "Plus généralement,\n",
    "tout type implémentant le [trait `Copy`](https://doc.rust-lang.org/stable/std/marker/trait.Copy.html)\n",
    "utilise la sémantique *copy*.\n",
    "\n",
    "Il est possible de faite implémenter `Copy` aux types définis par nous, mais ce n'est pas toujours possible ni judicieux (example : le type `Vec`)."
   ]
  },
  {
   "cell_type": "markdown",
   "metadata": {
    "slideshow": {
     "slide_type": "slide"
    }
   },
   "source": [
    "## Propriété (*ownership*) 🦀🦀\n",
    "\n",
    "* Toute donnée est la **propriété** d'exactement une variable (ou champ de structure).\n",
    "\n",
    "* Conceptuellement, l'affectation d'une variable à une autre **déplace** (*move*) les données,\n",
    "  et **transfère** la propriété à la nouvelle variable.\n",
    "  \n",
    "* Lorsqu'une variable disparait,\n",
    "  (i.e. lorsqu'on quitte son scope),\n",
    "  si elle est encore propriétaire de ses données,\n",
    "  celles-ci sont **libérées**."
   ]
  },
  {
   "cell_type": "code",
   "execution_count": 6,
   "metadata": {
    "slideshow": {
     "slide_type": "subslide"
    }
   },
   "outputs": [
    {
     "name": "stdout",
     "output_type": "stream",
     "text": [
      "v3=[1, 1, 2, 3, 5, 8, 13]\n",
      "la somme des 7 premiers termes vaut 33\n"
     ]
    }
   ],
   "source": [
    "fn fibo(nb: usize) -> Vec<i32> {\n",
    "    let mut v1 = vec![];                  // 1. Le vecteur est créé ici\n",
    "    for i in 0..nb {\n",
    "        if i < 2 { v1.push(1); }\n",
    "        else     { v1.push(v1[i-2] + v1[i-1]); }\n",
    "    }\n",
    "    v1                                    // 2. Sa propriété est transmise au code appelent\n",
    "}\n",
    "\n",
    "fn somme(v2: Vec<i32>) -> i32 {\n",
    "    v2.into_iter().sum()\n",
    "}                                         // 5. La variable 'v' arrive au bout de son scope,\n",
    "                                          //    et elle possède toujours le vecteur,\n",
    "                                          //    qui est donc libérée.\n",
    "\n",
    "{ \n",
    "    let n = 7;\n",
    "    let mut v3 = fibo(n);                 // 3. Le vecteur est récupérée depuis la fonc. fibo\n",
    "    println!(\"v3={:?}\", &v3);\n",
    "    let s = somme(v3);                    // 4. Le vecteur est transférée à la fonc. somme\n",
    "    println!(\"la somme des {} premiers termes vaut {}\", n, s);\n",
    "    // println!(\"{:?}\", v3); // NE COMPILE PAS\n",
    "};"
   ]
  },
  {
   "cell_type": "markdown",
   "metadata": {
    "slideshow": {
     "slide_type": "slide"
    }
   },
   "source": [
    "## Emprunts (*borrow*) 🦀🦀"
   ]
  },
  {
   "cell_type": "code",
   "execution_count": 7,
   "metadata": {},
   "outputs": [
    {
     "name": "stdout",
     "output_type": "stream",
     "text": [
      "v1=[22, 44, 66] v2=[22, 44, 66]\n",
      "v1=[22, 44, 66]\n"
     ]
    }
   ],
   "source": [
    "let v1: Vec<i32> = vec![22, 44, 66];\n",
    "{\n",
    "    let v2 = &v1;\n",
    "    println!(\"v1={:?} v2={:?}\", &v1, &v2);\n",
    "}\n",
    "println!(\"v1={:?}\", &v1);"
   ]
  },
  {
   "cell_type": "markdown",
   "metadata": {},
   "source": [
    "<div style=\"text-align: center\">\n",
    "<img alt=\"String en mémoire\" src=\"images/trpl04-05.svg\" style=\"display: inline; width: 16em;\">\n",
    "</div>"
   ]
  },
  {
   "cell_type": "markdown",
   "metadata": {
    "slideshow": {
     "slide_type": "subslide"
    }
   },
   "source": [
    "Pour tout type `T`, les variables de type `&T` sont des **références** vers un `T`.\n",
    "\n",
    "* Physiquement, les références sont des pointeurs.\n",
    "* Conceptuellement, les références ne *possèdent pas* les données vers lesquelles elles pointent,\n",
    "* La disparition de la référence n'entraîne donc pas la libération des données.\n",
    "* En conséquence, plusieurs références vers les même données peuvent *co-exister*."
   ]
  },
  {
   "cell_type": "code",
   "execution_count": 8,
   "metadata": {},
   "outputs": [
    {
     "name": "stdout",
     "output_type": "stream",
     "text": [
      "v1=[22, 44, 66] v2=[22, 44, 66] v3=[22, 44, 66]\n",
      "v1=[22, 44, 66]\n"
     ]
    }
   ],
   "source": [
    "let mut v1: Vec<i32> = vec![22, 44, 66];\n",
    "{\n",
    "    let v2 = &v1;\n",
    "    let v3 = &v1;\n",
    "    println!(\"v1={:?} v2={:?} v3={:?}\", &v1, &v2, &v3);\n",
    "}\n",
    "println!(\"v1={:?}\", &v1);"
   ]
  },
  {
   "cell_type": "markdown",
   "metadata": {
    "slideshow": {
     "slide_type": "subslide"
    }
   },
   "source": [
    "NB : Les références de type `&T` sont immutables."
   ]
  },
  {
   "cell_type": "code",
   "execution_count": 9,
   "metadata": {},
   "outputs": [
    {
     "name": "stdout",
     "output_type": "stream",
     "text": [
      "v1=[22, 44] v2=[22, 44]\n",
      "v1=[22, 44, 88]\n"
     ]
    }
   ],
   "source": [
    "let mut v1: Vec<i32> = vec![22];\n",
    "v1.push(44);\n",
    "{\n",
    "    let v2 = &v1;\n",
    "    //v2.push(66); // NE COMPILE PAS\n",
    "    println!(\"v1={:?} v2={:?}\", &v1, &v2);\n",
    "}\n",
    "v1.push(88);\n",
    "println!(\"v1={:?}\", &v1);"
   ]
  },
  {
   "cell_type": "markdown",
   "metadata": {
    "slideshow": {
     "slide_type": "subslide"
    }
   },
   "source": [
    "Pour que l'exemple ci-dessus fonctionne, il faut utiliser une **référence mutable**,\n",
    "de type `&mut T`."
   ]
  },
  {
   "cell_type": "code",
   "execution_count": 10,
   "metadata": {
    "slideshow": {
     "slide_type": "-"
    }
   },
   "outputs": [
    {
     "name": "stdout",
     "output_type": "stream",
     "text": [
      "v1=[22, 44, 66, 88]\n"
     ]
    }
   ],
   "source": [
    "let mut v1: Vec<i32> = vec![22];\n",
    "v1.push(44);\n",
    "{\n",
    "    let v2 = &mut v1;\n",
    "    v2.push(66);\n",
    "}\n",
    "v1.push(88);\n",
    "println!(\"v1={:?}\", &v1);"
   ]
  },
  {
   "cell_type": "markdown",
   "metadata": {
    "slideshow": {
     "slide_type": "subslide"
    }
   },
   "source": [
    "### Règles sur les références"
   ]
  },
  {
   "cell_type": "markdown",
   "metadata": {},
   "source": [
    "On ne peut pas avoir en même temps\n",
    "\n",
    "* plusieurs références mutables, ni\n",
    "* une référence mutable et une (ou plusieurs) référence(s) immutable(s).\n",
    "\n",
    "En effet, il faut éviter\n",
    "\n",
    "* que deux parties du code modifient les mêmes données simultanément, et\n",
    "* qu'une partie du code lise des données en cours de modification."
   ]
  },
  {
   "cell_type": "code",
   "execution_count": 11,
   "metadata": {
    "slideshow": {
     "slide_type": "subslide"
    }
   },
   "outputs": [
    {
     "name": "stdout",
     "output_type": "stream",
     "text": [
      "v2=[22, 44]\n",
      "v1=[22, 44, 88]\n"
     ]
    }
   ],
   "source": [
    "let mut v1: Vec<i32> = vec![22];\n",
    "v1.push(44);\n",
    "{\n",
    "    let v2 = &mut v1;\n",
    "    //v1.push(66); // NE COMPILE PAS\n",
    "    //let v3 = &v1; // NE COMPILE PAS\n",
    "    println!(\"v2={:?}\", &v2);\n",
    "}\n",
    "v1.push(88);\n",
    "println!(\"v1={:?}\", &v1);"
   ]
  },
  {
   "cell_type": "markdown",
   "metadata": {
    "slideshow": {
     "slide_type": "subslide"
    }
   },
   "source": [
    "### Différence conceptuelle entre référence et pointeur\n"
   ]
  },
  {
   "cell_type": "code",
   "execution_count": 12,
   "metadata": {},
   "outputs": [
    {
     "data": {
      "text/plain": [
       "true"
      ]
     },
     "execution_count": 12,
     "metadata": {},
     "output_type": "execute_result"
    }
   ],
   "source": [
    "let a = 42;\n",
    "let b = 41 + 1;\n",
    "let test = (&a == &b);\n",
    "test"
   ]
  },
  {
   "cell_type": "markdown",
   "metadata": {},
   "source": [
    "* La « valeur » d'une référence n'est **pas** l'adresse en mémoire, c'est la valeur pointée.\n",
    "\n",
    "    * Ne pas penser `&T` comme « un pointeur vers un `T` » mais comme « un `T` emprunté à quelqu'un d'autre ».\n",
    "    * `T` et `&T` restent malgré tout deux types différents...\n",
    "\n",
    "* En Rust, une référence n'est **jamais** un pointeur null. 🦀"
   ]
  },
  {
   "cell_type": "markdown",
   "metadata": {
    "slideshow": {
     "slide_type": "slide"
    }
   },
   "source": [
    "## Choix des types des paramètres des fonctions"
   ]
  },
  {
   "cell_type": "code",
   "execution_count": 13,
   "metadata": {},
   "outputs": [],
   "source": [
    "// ma fonction n'a pas besoin de modifier les données : &T\n",
    "fn compte_zeros(v: &Vec<i32>) -> usize {\n",
    "    let mut c = 0;\n",
    "    for i in v {\n",
    "        if *i == 0 {\n",
    "            c += 1;\n",
    "        }\n",
    "    }\n",
    "    c\n",
    "}\n",
    "// NB: cette version n'est pas très idiomatique..."
   ]
  },
  {
   "cell_type": "code",
   "execution_count": 14,
   "metadata": {},
   "outputs": [],
   "source": [
    "// ma fonction a besoin de modifier les données : &mut T\n",
    "fn ajoute_un(v: &mut Vec<i32>) {\n",
    "    for i in v {\n",
    "        *i += 1;\n",
    "    }\n",
    "}"
   ]
  },
  {
   "cell_type": "code",
   "execution_count": 15,
   "metadata": {
    "slideshow": {
     "slide_type": "-"
    }
   },
   "outputs": [],
   "source": [
    "// ma fonction \"consomme\" les données (rare) / les données sont `Copy` : T\n",
    "fn fact(n: usize) -> usize {\n",
    "    if n <= 1 { 1 } else { n*fact(n-1) }\n",
    "}"
   ]
  },
  {
   "cell_type": "markdown",
   "metadata": {
    "slideshow": {
     "slide_type": "slide"
    }
   },
   "source": [
    "## Durées de vie (*lifetime*)\n",
    "\n",
    "Un composant du compilateur (le *borrow checker*)\n",
    "vérifie qu'aucun emprunt ne dure plus longtemps que la durée de vie du propriétaire.\n",
    "\n",
    "(puisqu'à la « mort » du propriétaire, les données sont libérées)"
   ]
  },
  {
   "cell_type": "code",
   "execution_count": 16,
   "metadata": {},
   "outputs": [
    {
     "ename": "Error",
     "evalue": "`proprietaire` does not live long enough",
     "output_type": "error",
     "traceback": [
      "        emprunteur.push(&proprietaire)",
      "\u001b[91m                        ^^^^^^^^^^^^^\u001b[0m \u001b[94mborrowed value does not live long enough\u001b[0m",
      "    }",
      "\u001b[91m    ^\u001b[0m \u001b[94m`proprietaire` dropped here while still borrowed\u001b[0m",
      "    println!(\"{:?}\", &emprunteur);",
      "\u001b[91m                     ^^^^^^^^^^^\u001b[0m \u001b[94mborrow later used here\u001b[0m",
      "`proprietaire` does not live long enough"
     ]
    }
   ],
   "source": [
    "// NE COMPILE PAS\n",
    "{\n",
    "    let mut emprunteur: Vec<&i32> = Vec::new();\n",
    "    {\n",
    "        let proprietaire = 42;\n",
    "        emprunteur.push(&proprietaire)\n",
    "    }\n",
    "    println!(\"{:?}\", &emprunteur);\n",
    "}"
   ]
  },
  {
   "cell_type": "markdown",
   "metadata": {
    "slideshow": {
     "slide_type": "subslide"
    }
   },
   "source": [
    "Dans certaines situations, le compilateur a besoin qu'on lui donne des indications sur les durées de vie respectives des différentes références (« qui doit vivre aussi longtemps que qui ? »)."
   ]
  },
  {
   "cell_type": "code",
   "execution_count": 17,
   "metadata": {},
   "outputs": [
    {
     "ename": "Error",
     "evalue": "missing lifetime specifier",
     "output_type": "error",
     "traceback": [
      "fn borrow_concat(v1: &Vec<i32>, v2: &Vec<i32>) -> Vec<&i32> {",
      "\u001b[91m                     ^^^^^^^^^\u001b[0m \u001b[94m\u001b[0m",
      "fn borrow_concat(v1: &Vec<i32>, v2: &Vec<i32>) -> Vec<&i32> {",
      "\u001b[91m                                    ^^^^^^^^^\u001b[0m \u001b[94m\u001b[0m",
      "fn borrow_concat(v1: &Vec<i32>, v2: &Vec<i32>) -> Vec<&i32> {",
      "\u001b[91m                                                      ^\u001b[0m \u001b[94mexpected named lifetime parameter\u001b[0m",
      "missing lifetime specifier",
      "\u001b[1mhelp\u001b[0m: this function's return type contains a borrowed value, but the signature does not say whether it is borrowed from `v1` or `v2`",
      "\u001b[1mhelp\u001b[0m: consider introducing a named lifetime parameter\n\n<'a>"
     ]
    }
   ],
   "source": [
    "fn borrow_concat(v1: &Vec<i32>, v2: &Vec<i32>) -> Vec<&i32> {\n",
    "    // indique que v1 et v2 doivent tous deux vivre aussi longtemps que le vecteur retourné\n",
    "    let mut v3 = Vec::with_capacity(v1.len() + v2.len());\n",
    "    for i in 0..v1.len() {\n",
    "        v3.push(&v1[i]);\n",
    "    }\n",
    "    for i in 0..v2.len() {\n",
    "        v3.push(&v2[i]);\n",
    "    }\n",
    "    v3\n",
    "}\n",
    "// NB: cette version n'est pas très idiomatique..."
   ]
  },
  {
   "cell_type": "markdown",
   "metadata": {
    "slideshow": {
     "slide_type": "subslide"
    }
   },
   "source": [
    "Solution du problème précédent : on introduit des identifiants de *lifetime*.\n",
    "\n",
    "(En l'occurrence, un seul, arbitrairement nommé `'a`,\n",
    " pour indiquer que les trois types de références doivent vivre aussi longtemps les uns que les autres.)"
   ]
  },
  {
   "cell_type": "code",
   "execution_count": 18,
   "metadata": {},
   "outputs": [],
   "source": [
    "fn borrow_concat<'a>(v1: &'a Vec<i32>, v2: &'a Vec<i32>) -> Vec<&'a i32> {\n",
    "    // indique que v1 et v2 doivent tous deux vivre aussi longtemps que\n",
    "    // les éléments du vecteur retourné\n",
    "    let mut v3 = Vec::with_capacity(v1.len() + v2.len());\n",
    "    for i in 0..v1.len() {\n",
    "        v3.push(&v1[i]);\n",
    "    }\n",
    "    for i in 0..v2.len() {\n",
    "        v3.push(&v2[i]);\n",
    "    }\n",
    "    v3\n",
    "}\n",
    "// NB: cette version n'est pas très idiomatique..."
   ]
  },
  {
   "cell_type": "markdown",
   "metadata": {
    "slideshow": {
     "slide_type": "subslide"
    }
   },
   "source": [
    "Il existe des règles par défaut pour les *lifetimes*,\n",
    "qui font que dans de nombreux cas, il n'est pas nécessaire de les spécifier.\n",
    "\n",
    "Par exemple, s'il n'y a qu'une seule référence en entrée, et qu'une seule référence en sortie,\n",
    "elles sont supposées avoir la même *lifetime*."
   ]
  },
  {
   "cell_type": "code",
   "execution_count": 19,
   "metadata": {},
   "outputs": [],
   "source": [
    "fn borrow_concat(v1: &Vec<i32>) -> Vec<&i32> {\n",
    "// équivalent à\n",
    "// fn borrow_concat<'a>(v1: &'a Vec<i32>) -> Vec<&'a i32> {\n",
    "    let mut v2 = Vec::with_capacity(v1.len());\n",
    "    for i in 0..v1.len() {\n",
    "        v2.push(&v1[i]);\n",
    "    }\n",
    "    v2\n",
    "}\n",
    "// NB: cette version n'est pas très idiomatique..."
   ]
  }
 ],
 "metadata": {
  "celltoolbar": "Slideshow",
  "kernelspec": {
   "display_name": "Rust",
   "language": "rust",
   "name": "rust"
  },
  "language_info": {
   "codemirror_mode": "rust",
   "file_extension": ".rs",
   "mimetype": "text/rust",
   "name": "Rust",
   "pygment_lexer": "rust",
   "version": ""
  }
 },
 "nbformat": 4,
 "nbformat_minor": 2
}
